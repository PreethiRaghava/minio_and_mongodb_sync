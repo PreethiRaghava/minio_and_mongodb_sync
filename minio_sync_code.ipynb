{
 "cells": [
  {
   "cell_type": "code",
   "execution_count": null,
   "id": "794c636e-2e1e-4694-8d37-1fcfbbb50914",
   "metadata": {},
   "outputs": [],
   "source": [
    "import io\n",
    "from minio import Minio\n",
    "from minio.error import S3Error\n",
    "\n",
    "# Set up source and target MinIO servers\n",
    "\n",
    "# Replace the IP, access_key and secret_key with the Local system minio credentials\n",
    "source_minio = Minio(\n",
    "    \"127.0.0.1:9000\",\n",
    "    access_key=\"g9Rf0UgUoHU0bk0c\",\n",
    "    secret_key=\"bFo6e6Roth4T2l9KZTUGnymzp8aw1EAl\",\n",
    "    secure=False  # Change to True for HTTPS\n",
    ")\n",
    "\n",
    "# Replace the IP, access_key and secret_key with the Target system minio credentials\n",
    "target_minio = Minio(\n",
    "    \"10.2.130.116:9000\",\n",
    "    access_key=\"mIxhs4LsycBVEAGj\",\n",
    "    secret_key=\"6gCOTjV3oTKIJUupW5OZYN4rMunOJDUS\",\n",
    "    secure=False # Change to True for HTTPS\n",
    ")\n",
    "\n",
    "# specify the source and target buckets\n",
    "source_bucket = 'testraghava'\n",
    "target_bucket = 'testraghava'\n",
    "\n",
    "\n",
    "if target_minio.bucket_exists(target_bucket):\n",
    "       print(\"{} bucket exists\".format(target_bucket))\n",
    "else:\n",
    "       target_minio.make_bucket(target_bucket)\n",
    "       print(\"{} bucket created\".format(target_bucket))\n",
    "       \n",
    "# iterate over each object in the source bucket and copy it to the target bucket\n",
    "for obj in source_minio.list_objects(source_bucket, recursive=True):\n",
    "    try:\n",
    "        # read the data from the source object into a BytesIO object\n",
    "        source_object = source_minio.get_object(source_bucket, obj.object_name)\n",
    "        data = io.BytesIO(source_object.read())\n",
    "        # calculate the length of the data in bytes\n",
    "        length = data.getbuffer().nbytes\n",
    "        \n",
    "        # copy the object to the target bucket\n",
    "        target_minio.put_object(target_bucket, obj.object_name, data, length=length)\n",
    "        print(f\"Copied {obj.object_name} to {target_bucket}/{obj.object_name}\")\n",
    "        \n",
    "    except S3Error as e:\n",
    "        print(f\"Error copying {obj.object_name}: {e}\")"
   ]
  }
 ],
 "metadata": {
  "kernelspec": {
   "display_name": "Python 3 (ipykernel)",
   "language": "python",
   "name": "python3"
  },
  "language_info": {
   "codemirror_mode": {
    "name": "ipython",
    "version": 3
   },
   "file_extension": ".py",
   "mimetype": "text/x-python",
   "name": "python",
   "nbconvert_exporter": "python",
   "pygments_lexer": "ipython3",
   "version": "3.7.3"
  },
  "toc-autonumbering": false,
  "toc-showcode": false,
  "toc-showmarkdowntxt": true
 },
 "nbformat": 4,
 "nbformat_minor": 5
}
